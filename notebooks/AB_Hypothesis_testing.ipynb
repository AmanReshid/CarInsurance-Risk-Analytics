{
 "cells": [
  {
   "cell_type": "markdown",
   "metadata": {},
   "source": [
    "# A/B Testing Simulation for Insurance Analytics\n",
    "\n",
    "This notebook simulates an A/B test comparing claim frequencies between two groups: a control group with standard premiums and a treatment group with reduced premiums.\n"
   ]
  },
  {
   "cell_type": "code",
   "execution_count": 1,
   "metadata": {},
   "outputs": [],
   "source": [
    "# notebooks/example_notebook.ipynb\n",
    "\n",
    "import sys\n",
    "import os\n",
    "sys.path.append(os.path.abspath('../scripts'))"
   ]
  },
  {
   "cell_type": "code",
   "execution_count": 4,
   "metadata": {},
   "outputs": [
    {
     "ename": "ImportError",
     "evalue": "cannot import name 'margin_analysis' from 'AB_testing' (c:\\Users\\a\\Documents\\GitHub\\CarInsurance-Risk-Analytics\\scripts\\AB_testing.py)",
     "output_type": "error",
     "traceback": [
      "\u001b[1;31m---------------------------------------------------------------------------\u001b[0m",
      "\u001b[1;31mImportError\u001b[0m                               Traceback (most recent call last)",
      "Cell \u001b[1;32mIn[4], line 1\u001b[0m\n\u001b[1;32m----> 1\u001b[0m \u001b[38;5;28;01mfrom\u001b[39;00m \u001b[38;5;21;01mAB_testing\u001b[39;00m \u001b[38;5;28;01mimport\u001b[39;00m generate_insurance_data, save_data_to_csv, ab_test, gender_analysis, ab_test_zip_code, margin_analysis\n",
      "\u001b[1;31mImportError\u001b[0m: cannot import name 'margin_analysis' from 'AB_testing' (c:\\Users\\a\\Documents\\GitHub\\CarInsurance-Risk-Analytics\\scripts\\AB_testing.py)"
     ]
    }
   ],
   "source": [
    "from AB_testing import generate_insurance_data, save_data_to_csv, ab_test, gender_analysis, ab_test_zip_code, margin_analysis_zip_codes"
   ]
  },
  {
   "cell_type": "code",
   "execution_count": 3,
   "metadata": {},
   "outputs": [],
   "source": [
    "\n",
    "# Example usage\n",
    "insurance_data = generate_insurance_data()\n",
    "\n"
   ]
  },
  {
   "cell_type": "code",
   "execution_count": 4,
   "metadata": {},
   "outputs": [
    {
     "data": {
      "text/html": [
       "<div>\n",
       "<style scoped>\n",
       "    .dataframe tbody tr th:only-of-type {\n",
       "        vertical-align: middle;\n",
       "    }\n",
       "\n",
       "    .dataframe tbody tr th {\n",
       "        vertical-align: top;\n",
       "    }\n",
       "\n",
       "    .dataframe thead th {\n",
       "        text-align: right;\n",
       "    }\n",
       "</style>\n",
       "<table border=\"1\" class=\"dataframe\">\n",
       "  <thead>\n",
       "    <tr style=\"text-align: right;\">\n",
       "      <th></th>\n",
       "      <th>Province</th>\n",
       "      <th>Gender</th>\n",
       "      <th>Claimed</th>\n",
       "    </tr>\n",
       "  </thead>\n",
       "  <tbody>\n",
       "    <tr>\n",
       "      <th>0</th>\n",
       "      <td>Province_C</td>\n",
       "      <td>Male</td>\n",
       "      <td>0</td>\n",
       "    </tr>\n",
       "    <tr>\n",
       "      <th>1</th>\n",
       "      <td>Province_A</td>\n",
       "      <td>Male</td>\n",
       "      <td>1</td>\n",
       "    </tr>\n",
       "    <tr>\n",
       "      <th>2</th>\n",
       "      <td>Province_C</td>\n",
       "      <td>Male</td>\n",
       "      <td>0</td>\n",
       "    </tr>\n",
       "    <tr>\n",
       "      <th>3</th>\n",
       "      <td>Province_C</td>\n",
       "      <td>Male</td>\n",
       "      <td>1</td>\n",
       "    </tr>\n",
       "    <tr>\n",
       "      <th>4</th>\n",
       "      <td>Province_A</td>\n",
       "      <td>Female</td>\n",
       "      <td>0</td>\n",
       "    </tr>\n",
       "    <tr>\n",
       "      <th>...</th>\n",
       "      <td>...</td>\n",
       "      <td>...</td>\n",
       "      <td>...</td>\n",
       "    </tr>\n",
       "    <tr>\n",
       "      <th>995</th>\n",
       "      <td>Province_B</td>\n",
       "      <td>Male</td>\n",
       "      <td>1</td>\n",
       "    </tr>\n",
       "    <tr>\n",
       "      <th>996</th>\n",
       "      <td>Province_B</td>\n",
       "      <td>Female</td>\n",
       "      <td>0</td>\n",
       "    </tr>\n",
       "    <tr>\n",
       "      <th>997</th>\n",
       "      <td>Province_C</td>\n",
       "      <td>Male</td>\n",
       "      <td>1</td>\n",
       "    </tr>\n",
       "    <tr>\n",
       "      <th>998</th>\n",
       "      <td>Province_C</td>\n",
       "      <td>Male</td>\n",
       "      <td>0</td>\n",
       "    </tr>\n",
       "    <tr>\n",
       "      <th>999</th>\n",
       "      <td>Province_A</td>\n",
       "      <td>Male</td>\n",
       "      <td>1</td>\n",
       "    </tr>\n",
       "  </tbody>\n",
       "</table>\n",
       "<p>1000 rows × 3 columns</p>\n",
       "</div>"
      ],
      "text/plain": [
       "       Province  Gender  Claimed\n",
       "0    Province_C    Male        0\n",
       "1    Province_A    Male        1\n",
       "2    Province_C    Male        0\n",
       "3    Province_C    Male        1\n",
       "4    Province_A  Female        0\n",
       "..          ...     ...      ...\n",
       "995  Province_B    Male        1\n",
       "996  Province_B  Female        0\n",
       "997  Province_C    Male        1\n",
       "998  Province_C    Male        0\n",
       "999  Province_A    Male        1\n",
       "\n",
       "[1000 rows x 3 columns]"
      ]
     },
     "execution_count": 4,
     "metadata": {},
     "output_type": "execute_result"
    }
   ],
   "source": [
    "insurance_data"
   ]
  },
  {
   "cell_type": "code",
   "execution_count": 5,
   "metadata": {},
   "outputs": [],
   "source": [
    "save_data_to_csv(insurance_data)\n"
   ]
  },
  {
   "cell_type": "markdown",
   "metadata": {},
   "source": [
    "## Hypotheses for Chi-squared Test (Provinces)\n",
    "\n",
    "- **Null Hypothesis (\\( H_0 \\))**: There are no risk differences across provinces; the proportion of claims is the same for all provinces.\n",
    "- **Alternative Hypothesis (\\( H_a \\))**: There are risk differences across provinces; the proportion of claims is not the same for all provinces.\n",
    "\n",
    "## Hypotheses for T-test (Gender)\n",
    "\n",
    "    - **Null Hypothesis (\\( H_0 \\))**: There are no risk differences between genders; the mean claim rate is the same for males and females.\n",
    "- **Alternative Hypothesis (\\( H_a \\))**: There are risk differences between genders; the mean claim rate is not the same for males and females.\n",
    "\n",
    "## Setting the P-value Threshold\n",
    "\n",
    "Typically, a significance level (\\( \\alpha \\)) of 0.05 is used:\n",
    "\n",
    "- If the p-value is less than \\( \\alpha \\) (0.05), we **reject the null hypothesis**.\n",
    "- If the p-value is greater than or equal to \\( \\alpha \\) (0.05), we **fail to reject the null hypothesis**.\n"
   ]
  },
  {
   "cell_type": "code",
   "execution_count": 6,
   "metadata": {},
   "outputs": [
    {
     "name": "stdout",
     "output_type": "stream",
     "text": [
      "Chi-squared Statistic: 0.43236333074228434\n",
      "P-value (Provinces): 0.8055889409655793\n"
     ]
    }
   ],
   "source": [
    "chi2_stat, p_value, contingency_table = ab_test(insurance_data)\n",
    "print(\"Chi-squared Statistic:\", chi2_stat)\n",
    "print(\"P-value (Provinces):\", p_value)\n",
    "\n"
   ]
  },
  {
   "cell_type": "code",
   "execution_count": 7,
   "metadata": {},
   "outputs": [
    {
     "name": "stdout",
     "output_type": "stream",
     "text": [
      "Contingency Table (Provinces):\n",
      " Claimed       0    1\n",
      "Province            \n",
      "Province_A  211  144\n",
      "Province_B  201  125\n",
      "Province_C  196  123\n"
     ]
    }
   ],
   "source": [
    "contingency_table\n",
    "print(\"Contingency Table (Provinces):\\n\", contingency_table)"
   ]
  },
  {
   "cell_type": "markdown",
   "metadata": {},
   "source": [
    "## A/B Test Results for Provinces\n",
    "\n",
    "### Chi-squared Statistic\n",
    "- **Value**: 0.43\n",
    "\n",
    "### P-value\n",
    "- **Value**: 0.81\n",
    "\n",
    "### Interpretation\n",
    "The Chi-squared statistic of 0.43 indicates a very low level of discrepancy between the observed and expected frequencies of claims across the provinces. The p-value of 0.81 suggests that this difference is not statistically significant, as it is well above the conventional alpha level of 0.05.\n",
    "\n",
    "This result implies that there is no strong evidence to suggest that the claim rates differ significantly among the provinces. \n",
    "Therefore, we fail to reject the null hypothesis, which states that there is no difference in claim rates across the provinces in this dataset.\n"
   ]
  },
  {
   "cell_type": "code",
   "execution_count": 8,
   "metadata": {},
   "outputs": [],
   "source": [
    "t_stat, gender_p_value = gender_analysis(insurance_data)"
   ]
  },
  {
   "cell_type": "code",
   "execution_count": 9,
   "metadata": {},
   "outputs": [
    {
     "name": "stdout",
     "output_type": "stream",
     "text": [
      "T-statistic (Gender): 12.92963215401046\n",
      "P-value (Gender): 1.936383802773897e-35\n"
     ]
    }
   ],
   "source": [
    "print(\"T-statistic (Gender):\", t_stat)\n",
    "print(\"P-value (Gender):\", gender_p_value)"
   ]
  },
  {
   "cell_type": "markdown",
   "metadata": {},
   "source": [
    "## Gender Analysis Results\n",
    "\n",
    "### T-statistic\n",
    "- **Value**: 12.93\n",
    "\n",
    "### P-value\n",
    "- **Value**: \\(1.94 \\times 10^{-35}\\)\n",
    "\n",
    "### Interpretation\n",
    "The T-statistic of 12.93 indicates a significant difference in the claim rates between genders. The extremely low p-value (approximately \\(1.94 \\times 10^{-35}\\)) suggests that this difference is statistically significant, far below the conventional alpha level of 0.05. \n",
    "\n",
    "This result implies that gender has a strong effect on the likelihood of making a claim, with the data providing overwhelming evidence against the null hypothesis, which states that there is no difference in claim rates between genders. Thus, we can conclude that gender is a significant factor in insurance claims within this dataset.\n",
    "\n",
    "we reject the null hypothesis."
   ]
  },
  {
   "cell_type": "markdown",
   "metadata": {},
   "source": [
    "# Hypotheses for Zip Codes (Chi-squared Test)\n",
    "\n",
    "- Null Hypothesis (\\( H_0 \\)): There are no risk differences across zip codes; the proportion of claims is the same for all zip codes.\n",
    "\n",
    "- Alternative Hypothesis (\\( H_a \\)): There are risk differences across zip codes; the proportion of claims is not the same for all zip codes.\n"
   ]
  },
  {
   "cell_type": "code",
   "execution_count": null,
   "metadata": {},
   "outputs": [],
   "source": [
    "# Run the A/B test for zip codes\n",
    "chi2_stat_zip, p_value_zip, contingency_table_zip = ab_test_zip_code(insurance_data)\n",
    "print(\"Chi-squared Statistic (Zip Codes):\", chi2_stat_zip)\n",
    "print(\"P-value (Zip Codes):\", p_value_zip)\n",
    "print(\"Contingency Table (Zip Codes):\\n\", contingency_table_zip)"
   ]
  },
  {
   "cell_type": "markdown",
   "metadata": {},
   "source": [
    " # Zip Code Analysis Results\n",
    "\n",
    "### Chi-squared Statistic\n",
    "- **Value**: [Insert Value]\n",
    "\n",
    "### P-value\n",
    "- **Value**: [Insert Value]\n",
    "\n",
    "### Interpretation\n",
    "If p-value < 0.05, reject the null hypothesis, suggesting significant differences in claims across zip codes.\n"
   ]
  },
  {
   "cell_type": "markdown",
   "metadata": {},
   "source": [
    "# Hypotheses for Profit Margins (T-test)\n",
    "\n",
    "- Null Hypothesis (\\( H_0 \\)): There are no significant profit margin differences across zip codes.\n",
    "\n",
    "- Alternative Hypothesis (\\( H_a \\)): There are significant profit margin differences across zip codes."
   ]
  },
  {
   "cell_type": "code",
   "execution_count": null,
   "metadata": {},
   "outputs": [],
   "source": [
    "# Run margin analysis\n",
    "t_stat_margin, p_value_margin = margin_analysis_zip_codes(insurance_data)\n",
    "print(\"T-statistic (Margin):\", t_stat_margin)\n",
    "print(\"P-value (Margin):\", p_value_margin)"
   ]
  },
  {
   "cell_type": "markdown",
   "metadata": {},
   "source": [
    "## Margin Analysis Results\n",
    "\n",
    "### T-statistic\n",
    "- **Value**: [Insert Value]\n",
    "\n",
    "### P-value\n",
    "- **Value**: [Insert Value]\n",
    "\n",
    "### Interpretation\n",
    "If p-value < 0.05, reject the null hypothesis, indicating significant differences in margins across zip codes."
   ]
  }
 ],
 "metadata": {
  "kernelspec": {
   "display_name": "eda",
   "language": "python",
   "name": "python3"
  },
  "language_info": {
   "codemirror_mode": {
    "name": "ipython",
    "version": 3
   },
   "file_extension": ".py",
   "mimetype": "text/x-python",
   "name": "python",
   "nbconvert_exporter": "python",
   "pygments_lexer": "ipython3",
   "version": "3.12.5"
  }
 },
 "nbformat": 4,
 "nbformat_minor": 2
}
