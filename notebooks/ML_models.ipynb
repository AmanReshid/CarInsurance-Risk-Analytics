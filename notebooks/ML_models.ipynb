{
 "cells": [
  {
   "cell_type": "code",
   "execution_count": 3,
   "metadata": {},
   "outputs": [],
   "source": [
    "#Import Libraries\n",
    "import sys\n",
    "import os\n",
    "import pandas as pd\n",
    "import data_processing as dp\n",
    "import model as m\n",
    "from datetime import datetime\n",
    "sys.path.append(os.path.abspath('../scripts'))"
   ]
  },
  {
   "cell_type": "code",
   "execution_count": 12,
   "metadata": {},
   "outputs": [
    {
     "name": "stderr",
     "output_type": "stream",
     "text": [
      "c:\\Users\\a\\Documents\\GitHub\\CarInsurance-Risk-Analytics\\scripts\\data_processing.py:8: DtypeWarning: Columns (32,37) have mixed types. Specify dtype option on import or set low_memory=False.\n",
      "  data = pd.read_csv(filepath)\n"
     ]
    }
   ],
   "source": [
    "# Load and clean data\n",
    "filepath = '../data/insurance_data.csv'\n",
    "data = dp.load_and_clean_data(filepath)"
   ]
  },
  {
   "cell_type": "code",
   "execution_count": null,
   "metadata": {},
   "outputs": [],
   "source": [
    "# Encode and scale the data\n",
    "columns_label = ['sex', 'smoker', 'region']\n",
    "columns_onehot = ['sex', 'smoker', 'region', 'children']\n",
    "df_label = dp.encoder('labelEncoder', data, columns_label, columns_onehot)\n",
    "\n",
    "columns_scaler = ['charges']\n",
    "df_scaled = dp.scaler('minMaxScaler', df_label, columns_scaler)"
   ]
  },
  {
   "cell_type": "code",
   "execution_count": null,
   "metadata": {},
   "outputs": [],
   "source": [
    "# Split the data\n",
    "X = df_scaled.drop('charges', axis=1)\n",
    "y = df_scaled['charges']\n",
    "X_train, X_test, y_train, y_test = m.split_data(X, y)\n",
    "\n",
    "# Train models\n",
    "lr_model, dt_model, rfr_model, xgb_model = m.train_models(X_train, y_train)\n"
   ]
  },
  {
   "cell_type": "code",
   "execution_count": null,
   "metadata": {},
   "outputs": [],
   "source": [
    "# Evaluate models\n",
    "models = ['Linear Regression', 'Decision Tree', 'Random Forest', 'XGBoost']\n",
    "mae_scores, mse_scores, r2_scores = [], [], []\n",
    "for model in [lr_model, dt_model, rfr_model, xgb_model]:\n",
    "    mae, mse, r2, _ = m.evaluate_model(model, X_test, y_test)\n",
    "    mae_scores.append(mae)\n",
    "    mse_scores.append(mse)\n",
    "    r2_scores.append(r2)\n",
    "\n",
    "# Plot metrics\n",
    "m.plot_metrics(models, mae_scores, mse_scores, r2_scores)"
   ]
  }
 ],
 "metadata": {
  "kernelspec": {
   "display_name": ".venv",
   "language": "python",
   "name": "python3"
  },
  "language_info": {
   "codemirror_mode": {
    "name": "ipython",
    "version": 3
   },
   "file_extension": ".py",
   "mimetype": "text/x-python",
   "name": "python",
   "nbconvert_exporter": "python",
   "pygments_lexer": "ipython3",
   "version": "3.12.5"
  }
 },
 "nbformat": 4,
 "nbformat_minor": 2
}
